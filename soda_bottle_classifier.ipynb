{
  "nbformat": 4,
  "nbformat_minor": 0,
  "metadata": {
    "jupytext": {
      "split_at_heading": true
    },
    "kernelspec": {
      "display_name": "Python 3",
      "language": "python",
      "name": "python3"
    },
    "language_info": {
      "codemirror_mode": {
        "name": "ipython",
        "version": 3
      },
      "file_extension": ".py",
      "mimetype": "text/x-python",
      "name": "python",
      "nbconvert_exporter": "python",
      "pygments_lexer": "ipython3",
      "version": "3.7.7"
    },
    "toc": {
      "base_numbering": 1,
      "nav_menu": {},
      "number_sections": false,
      "sideBar": true,
      "skip_h1_title": true,
      "title_cell": "Table of Contents",
      "title_sidebar": "Contents",
      "toc_cell": false,
      "toc_position": {},
      "toc_section_display": true,
      "toc_window_display": false
    },
    "colab": {
      "name": "soda_bottle_classifier.ipynb",
      "provenance": []
    }
  },
  "cells": [
    {
      "cell_type": "code",
      "metadata": {
        "id": "gGArPxzFfF6M"
      },
      "source": [
        "from fastai.vision.all import *\n",
        "from fastai.vision.widgets import *"
      ],
      "execution_count": null,
      "outputs": []
    },
    {
      "cell_type": "markdown",
      "metadata": {
        "id": "C-Xx-t0UfF6S"
      },
      "source": [
        "# The Amazing Soda Bottle Classifier!"
      ]
    },
    {
      "cell_type": "markdown",
      "metadata": {
        "id": "OEyUHZ_-fF6T"
      },
      "source": [
        "You need to know whether you're the bottle of soda you're drinking is \n",
        "*  Mug Root Beer (M.Beer), \n",
        "*  Mountain Dew (MD.Orig), \n",
        "*  Mountain Dew Diet (MD.Diet), \n",
        "*  Pepsi Cherry (P.Cherry), \n",
        "*  Pepsi Diet (P.diet), \n",
        "*  Pepsi Original (P.Orig), \n",
        "*  Pepsi Zero (P.Zero), \n",
        "*  Pepsi Real Sugar (P.Rsugar), \n",
        "\n",
        "and you need an answer *fast*? Then you've come to the right place. Take a pic of the soda bottle, and click 'upload' to classify it. (Important: this only handles above soda types. It will **not** give a sensible answer for Coca Cola, a Fanta, water, or hot dogs.\n",
        "\n",
        "----"
      ]
    },
    {
      "cell_type": "code",
      "metadata": {
        "id": "0mWgKp4nfF6T"
      },
      "source": [
        "path = Path()\n",
        "learn_inf = load_learner(path/'export.pkl', cpu=True)\n",
        "btn_upload = widgets.FileUpload()\n",
        "out_pl = widgets.Output()\n",
        "lbl_pred = widgets.Label()"
      ],
      "execution_count": null,
      "outputs": []
    },
    {
      "cell_type": "code",
      "metadata": {
        "id": "mf6h43-SfF6U"
      },
      "source": [
        "def on_data_change(change):\n",
        "    lbl_pred.value = ''\n",
        "    img = PILImage.create(btn_upload.data[-1])\n",
        "    out_pl.clear_output()\n",
        "    with out_pl: display(img.to_thumb(128,128))\n",
        "    pred,pred_idx,probs = learn_inf.predict(img)\n",
        "    lbl_pred.value = f'Prediction: {pred}; Probability: {probs[pred_idx]:.04f}'"
      ],
      "execution_count": null,
      "outputs": []
    },
    {
      "cell_type": "code",
      "metadata": {
        "id": "FGEA2-DMfF6U"
      },
      "source": [
        "btn_upload.observe(on_data_change, names=['data'])"
      ],
      "execution_count": null,
      "outputs": []
    },
    {
      "cell_type": "code",
      "metadata": {
        "scrolled": false,
        "id": "QWkHQ7JGfF6V"
      },
      "source": [
        "display(VBox([widgets.Label('Select your soda bottle!'), btn_upload, out_pl, lbl_pred]))"
      ],
      "execution_count": null,
      "outputs": []
    }
  ]
}